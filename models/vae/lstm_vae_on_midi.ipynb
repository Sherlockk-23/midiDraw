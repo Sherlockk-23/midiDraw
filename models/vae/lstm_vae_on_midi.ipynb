{
 "cells": [
  {
   "cell_type": "markdown",
   "id": "d7580cba",
   "metadata": {},
   "source": [
    "## According to MusicVAE"
   ]
  },
  {
   "cell_type": "code",
   "execution_count": null,
   "id": "9c9adef4",
   "metadata": {},
   "outputs": [
    {
     "name": "stdout",
     "output_type": "stream",
     "text": [
      "pygame 2.6.1 (SDL 2.28.4, Python 3.8.0)\n",
      "Hello from the pygame community. https://www.pygame.org/contribute.html\n"
     ]
    }
   ],
   "source": [
    "import os\n",
    "import pretty_midi\n",
    "import json\n",
    "import numpy as np\n",
    "import matplotlib.pyplot as plt\n",
    "import random\n",
    "import pygame\n",
    "\n",
    "os.environ['CUDA_VISIBLE_DEVICES'] = '6'\n"
   ]
  },
  {
   "cell_type": "code",
   "execution_count": 2,
   "id": "9e3f0abb",
   "metadata": {},
   "outputs": [
    {
     "name": "stdout",
     "output_type": "stream",
     "text": [
      "Loaded 10000 midi files from ../../dataset/midi_dataset/filtered_midi_imgs_10_000.npy\n",
      "Shape of midi data: (10000, 100, 100)\n"
     ]
    }
   ],
   "source": [
    "# load data\n",
    "path = \"../../dataset/midi_dataset/filtered_midi_imgs_10_000.npy\"\n",
    "# path = \"../../dataset/quickdraw_dataset/The The Great Wall_100.npy\"\n",
    "midi_data = np.load(path, allow_pickle=True,)\n",
    "print(f\"Loaded {len(midi_data)} midi files from {path}\")\n",
    "print(f\"Shape of midi data: {midi_data.shape}\")\n",
    "\n"
   ]
  },
  {
   "cell_type": "code",
   "execution_count": 3,
   "id": "18eb71ef",
   "metadata": {},
   "outputs": [
    {
     "name": "stdout",
     "output_type": "stream",
     "text": [
      "Batch shape: torch.Size([256, 100, 100])\n"
     ]
    },
    {
     "data": {
      "image/png": "[encoded data removed]",
      "text/plain": [
       "<Figure size 640x480 with 1 Axes>"
      ]
     },
     "metadata": {},
     "output_type": "display_data"
    }
   ],
   "source": [
    "# make dataset \n",
    "import torch\n",
    "from torch.utils.data import Dataset, DataLoader\n",
    "\n",
    "picked_num = 256\n",
    "picked_midi = midi_data[:picked_num]\n",
    "\n",
    "device = torch.device(\"cuda\" if torch.cuda.is_available() else \"cpu\")\n",
    "\n",
    "class MidiDataset(Dataset):\n",
    "    def __init__(self, midi_data):\n",
    "        self.midi_data = midi_data\n",
    "\n",
    "    def __len__(self):\n",
    "        return len(self.midi_data)\n",
    "\n",
    "    def __getitem__(self, idx):\n",
    "        midi_file = self.midi_data[idx]\n",
    "        return midi_file\n",
    "# Create a dataset and dataloader\n",
    "midi_dataset = MidiDataset(picked_midi)\n",
    "midi_dataloader = DataLoader(midi_dataset, batch_size=256, shuffle=True)\n",
    "# Check the shape of the data\n",
    "for batch in midi_dataloader:\n",
    "    print(f\"Batch shape: {batch.shape}\")\n",
    "    break\n",
    "# Visualize the data\n",
    "def visualize_midi(midi_file):\n",
    "    plt.imshow(midi_file, cmap='gray')\n",
    "    plt.axis('off')\n",
    "    plt.show()\n",
    "# Visualize a random midi file\n",
    "random_idx = random.randint(0, len(midi_data) - 1)\n",
    "midi_file = midi_data[random_idx]\n",
    "visualize_midi(midi_file)\n"
   ]
  },
  {
   "cell_type": "code",
   "execution_count": 24,
   "id": "054a3496",
   "metadata": {},
   "outputs": [],
   "source": [
    "# MusicVAE\n",
    "import torch.nn as nn\n",
    "\n",
    "\"\"\"\n",
    "Encoder: \n",
    "use a lstm to encode the midi file into a latent space\n",
    "\n",
    "midi file (bsz, 100, 100) -> (100) * (bsz, 100, 1), time step = 100, dim = 100\n",
    "\n",
    "LSTM: input -> (bsz, h_dim) (i.e., h_T_left) + (bsz, h_dim) (i.e., h_T_right)\n",
    "\n",
    "mu = W_mu * h_T + b_mu\n",
    "sigma = log(exp(W_sigma * h_T + b_sigma)+1)\n",
    "\n",
    "Decoder: hierarchical RNN\n",
    "z = (bsz, latent_dim)\n",
    "decode to conductors : (bsz, latent_dim) ->  (bsz, 10, conductors_dim)\n",
    "each conductor : (bsz, conductors_dim) -> (bsz, 10, 100)\n",
    "concate to 10 * (bsz, 10, 100) -> (bsz, 100, 100)\n",
    "\n",
    "\"\"\"\n",
    "\n",
    "class MusicVAE(nn.Module):\n",
    "    def __init__(self, input_dim, time_dim, embed_dim,\n",
    "                 latent_dim, hidden_dim, conductor_dim,\n",
    "                 num_conductors=10, verbose=False):\n",
    "\n",
    "        super(MusicVAE, self).__init__()\n",
    "        self.input_dim = input_dim\n",
    "        self.latent_dim = latent_dim\n",
    "        self.hidden_dim = hidden_dim\n",
    "        self.conductor_dim = conductor_dim\n",
    "        self.time_dim = time_dim\n",
    "        self.num_conductors = num_conductors\n",
    "        self.verbose = verbose\n",
    "        self.embed_dim = embed_dim\n",
    "        \n",
    "        assert(time_dim%num_conductors == 0), \"time_dim should be divisible by num_conductors\"\n",
    "        \n",
    "        # Input embedding\n",
    "        self.input_embedding = nn.Linear(input_dim, embed_dim)\n",
    "        self.input_embedding2 = nn.Linear(embed_dim, embed_dim)\n",
    "        self.input_time_embedding = nn.Embedding(time_dim, embed_dim)\n",
    "        self.input_time_embedding2 = nn.Linear(embed_dim, embed_dim)\n",
    "\n",
    "        # Encoder\n",
    "        self.encoder_lstm = nn.LSTM(embed_dim, hidden_dim, batch_first=True, bidirectional=True)\n",
    "        self.fc_mu = nn.Linear(2*hidden_dim, latent_dim)\n",
    "        self.fc_logvar = nn.Linear(2*hidden_dim, latent_dim)\n",
    "\n",
    "        # Decoder\n",
    "        self.fc_z_to_conductor = nn.Linear(latent_dim, conductor_dim)\n",
    "        self.conductor_lstm = nn.LSTM(input_size=conductor_dim, hidden_size=conductor_dim, num_layers=1, batch_first=True)\n",
    "        self.fc_conductor_to_note = nn.Linear(conductor_dim, hidden_dim)\n",
    "        self.node_lstms = nn.ModuleList()\n",
    "        for i in range(num_conductors):\n",
    "            self.node_lstms.append(nn.LSTM(input_size=hidden_dim, hidden_size=hidden_dim, num_layers=1, batch_first=True))\n",
    "        # self.note_lstm = nn.LSTM(input_size=hidden_dim, hidden_size=hidden_dim, num_layers=1, batch_first=True)\n",
    "        self.note_decoder = nn.Linear(hidden_dim, input_dim)\n",
    "        \n",
    "        self.fc_out = nn.Linear(input_dim, input_dim)\n",
    "        self.sigmoid = nn.Sigmoid()\n",
    "        self.relu = nn.ReLU()\n",
    "        \n",
    "        # time embedding\n",
    "        self.conductor_embedding = nn.Embedding(num_conductors, conductor_dim)\n",
    "        self.conductor_emb_fc = nn.Linear(conductor_dim, conductor_dim)\n",
    "        self.time_embedding = nn.Embedding(time_dim, hidden_dim)\n",
    "        self.time_emb_fc = nn.Linear(hidden_dim, hidden_dim)\n",
    "        \n",
    "    def embed(self, x):\n",
    "        # x: (bsz, input_dim, time_dim)\n",
    "        # Embed x to (bsz, time_dim, embed_dim)\n",
    "        x = x.reshape(x.shape[0], self.input_dim, self.time_dim) \n",
    "        x = x.permute(0, 2, 1)\n",
    "        x = x.reshape(x.shape[0], self.time_dim, self.input_dim)\n",
    "        if self.verbose:\n",
    "            print(\"x\", x)\n",
    "            \n",
    "        x = self.input_embedding(x)     \n",
    "        for t in range(self.time_dim):\n",
    "            t_emb = self.input_time_embedding(torch.tensor(t).to(x.device))\n",
    "            t_emb = self.input_time_embedding2(t_emb)\n",
    "            t_emb = t_emb.unsqueeze(0)  # (1, embed_dim)\n",
    "            x[:, t, :] = x[:, t, :] + t_emb\n",
    "        x = self.relu(x)\n",
    "        x = self.input_embedding2(x)\n",
    "        x = self.relu(x)\n",
    "        return x\n",
    "        \n",
    "    def encode(self, x):\n",
    "        x = self.embed(x)\n",
    "        _, (h_n, _) = self.encoder_lstm(x)\n",
    "        if self.verbose:\n",
    "            print(\"h_n\", h_n[0])\n",
    "        h_n = h_n.view(h_n.shape[1], -1)\n",
    "        h_n = self.relu(h_n)\n",
    "        mu = self.fc_mu(h_n)\n",
    "        logvar = self.fc_logvar(h_n)\n",
    "        if self.verbose:\n",
    "            print(\"mu\", mu[0])\n",
    "            print(\"logvar\", logvar[0])\n",
    "        return mu, logvar\n",
    "\n",
    "    def reparameterize(self, mu, logvar):\n",
    "        std = torch.exp(0.5 * logvar)\n",
    "        eps = torch.randn_like(std)\n",
    "        return mu + eps * std\n",
    "\n",
    "    def decode(self, z):\n",
    "        # z: (bsz, latent_dim)\n",
    "        # Decode z to 10 conductors\n",
    "        conductors = []\n",
    "        h = self.fc_z_to_conductor(z).unsqueeze(1)  # (bsz, 1, conductors_dim)\n",
    "        for c in range(self.num_conductors):\n",
    "            tensor_c = torch.tensor(c).to(z.device)  # (1)\n",
    "            c_emb = self.conductor_embedding(tensor_c)  # (conductors_dim)\n",
    "            c_emb = self.conductor_emb_fc(c_emb).unsqueeze(0).unsqueeze(0)  # (1, 1, conductors_dim)\n",
    "            h = h + c_emb  # (bsz, 1, conductors_dim)\n",
    "            h = self.relu(h)\n",
    "            h, _ = self.conductor_lstm(h)  # (bsz, 1, conductors_dim)\n",
    "            conductors.append(h.squeeze(1))  # (bsz, conductors_dim)\n",
    "        conductors = torch.stack(conductors, dim=1)  # (bsz, 10, conductors_dim)\n",
    "        if self.verbose:\n",
    "            print(\"conductors\", conductors)\n",
    "        # Decode each conductor to 10 notes\n",
    "        notes = []\n",
    "        for c in range(self.num_conductors):\n",
    "            conductor = conductors[:, c, :].unsqueeze(1)  # (bsz, 1, conductors_dim)\n",
    "            h_conductor = self.fc_conductor_to_note(conductor)  # (bsz, 1, hidden_dim)\n",
    "            h = h_conductor\n",
    "            for t in range(self.time_dim // self.num_conductors):\n",
    "                tensor_t = torch.tensor(t+(self.time_dim // self.num_conductors)*c).to(z.device)\n",
    "                t_emb = self.time_embedding(tensor_t)\n",
    "                t_emb = self.time_emb_fc(t_emb).unsqueeze(0).unsqueeze(0)\n",
    "                if self.verbose:\n",
    "                    print(\"t_emb\", t_emb[0])\n",
    "                h = h + t_emb + h_conductor\n",
    "                h = self.relu(h)\n",
    "                # h, _ = self.note_lstm(h)  # (bsz, 1, hidden_dim)\n",
    "                h, _ = self.node_lstms[c](h)\n",
    "                note = self.note_decoder(h)\n",
    "                notes.append(note.squeeze(1))  # (bsz, input_dim)\n",
    "        notes = torch.stack(notes, dim=1)  # (bsz, time_dim, input_dim)\n",
    "        return notes\n",
    "\n",
    "    def forward(self, x):\n",
    "        mu, logvar = self.encode(x)\n",
    "        z = self.reparameterize(mu, logvar)\n",
    "        out = self.decode(z)\n",
    "        out = out.permute(0, 2, 1)\n",
    "        out = out.reshape(out.shape[0], self.input_dim, self.time_dim)\n",
    "        out = self.sigmoid(out)\n",
    "        return out, mu, logvar"
   ]
  },
  {
   "cell_type": "code",
   "execution_count": null,
   "id": "13e7c979",
   "metadata": {},
   "outputs": [
    {
     "ename": "TypeError",
     "evalue": "__init__() got an unexpected keyword argument 'verbose'",
     "output_type": "error",
     "traceback": [
      "\u001b[0;31m---------------------------------------------------------------------------\u001b[0m",
      "\u001b[0;31mTypeError\u001b[0m                                 Traceback (most recent call last)",
      "Cell \u001b[0;32mIn[31], line 9\u001b[0m\n\u001b[1;32m      7\u001b[0m conductor_dim \u001b[38;5;241m=\u001b[39m \u001b[38;5;241m6\u001b[39m\n\u001b[1;32m      8\u001b[0m num_conductors \u001b[38;5;241m=\u001b[39m \u001b[38;5;241m2\u001b[39m\n\u001b[0;32m----> 9\u001b[0m model \u001b[38;5;241m=\u001b[39m \u001b[43mMusicVAE\u001b[49m\u001b[43m(\u001b[49m\u001b[43minput_dim\u001b[49m\u001b[43m,\u001b[49m\u001b[43m \u001b[49m\u001b[43mtime_dim\u001b[49m\u001b[43m,\u001b[49m\u001b[43m \u001b[49m\u001b[43membed_dim\u001b[49m\u001b[43m,\u001b[49m\n\u001b[1;32m     10\u001b[0m \u001b[43m                 \u001b[49m\u001b[43mlatent_dim\u001b[49m\u001b[43m,\u001b[49m\u001b[43m \u001b[49m\u001b[43mhidden_dim\u001b[49m\u001b[43m,\u001b[49m\n\u001b[1;32m     11\u001b[0m \u001b[43m                 \u001b[49m\u001b[43mconductor_dim\u001b[49m\u001b[43m,\u001b[49m\u001b[43m \u001b[49m\u001b[43mnum_conductors\u001b[49m\u001b[43m,\u001b[49m\u001b[43m \u001b[49m\u001b[43mverbose\u001b[49m\u001b[38;5;241;43m=\u001b[39;49m\u001b[38;5;28;43;01mTrue\u001b[39;49;00m\u001b[43m)\u001b[49m\n\u001b[1;32m     13\u001b[0m dummy_x \u001b[38;5;241m=\u001b[39m torch\u001b[38;5;241m.\u001b[39mrandn(\u001b[38;5;241m1\u001b[39m, input_dim, time_dim)\n\u001b[1;32m     14\u001b[0m out, mu, logvar \u001b[38;5;241m=\u001b[39m model(dummy_x)\n",
      "\u001b[0;31mTypeError\u001b[0m: __init__() got an unexpected keyword argument 'verbose'"
     ]
    }
   ],
   "source": [
    "# test the model\n",
    "input_dim = 3\n",
    "time_dim = 4\n",
    "embed_dim = 8\n",
    "latent_dim = 2\n",
    "hidden_dim = 8\n",
    "conductor_dim = 6\n",
    "num_conductors = 2\n",
    "model = MusicVAE(input_dim, time_dim, embed_dim,\n",
    "                 latent_dim, hidden_dim,\n",
    "                 conductor_dim, num_conductors, verbose=True)\n",
    "\n",
    "dummy_x = torch.randn(1, input_dim, time_dim)\n",
    "out, mu, logvar = model(dummy_x)\n",
    "print(f\"Input shape: {dummy_x.shape}\")\n",
    "print(f\"Output shape: {out.shape}\")\n",
    "print(f\"Mu shape: {mu.shape}\")\n",
    "print(f\"Logvar shape: {logvar.shape}\")\n",
    "\n"
   ]
  },
  {
   "cell_type": "code",
   "execution_count": 5,
   "id": "882cfc62",
   "metadata": {},
   "outputs": [],
   "source": [
    "def compute_loss(recon_x, x, mu, logvar, beta=1):\n",
    "    BCE = nn.functional.binary_cross_entropy(recon_x, x.reshape(x.shape[0], 100, 100), reduction='sum')\n",
    "    # BCE = nn.functional.mse_loss(recon_x, x, reduction='sum')\n",
    "    KLD = -0.5 * torch.sum(1 + logvar - mu.pow(2) - logvar.exp())\n",
    "    return BCE + KLD* beta, BCE, KLD"
   ]
  },
  {
   "cell_type": "code",
   "execution_count": 6,
   "id": "46e66bb3",
   "metadata": {},
   "outputs": [],
   "source": [
    "def train(model, dataloader, optimizer, epochs=10, beta = 1):\n",
    "    model.train()\n",
    "    for epoch in range(epochs):\n",
    "        train_loss = 0\n",
    "        bce_loss = 0\n",
    "        kld_loss = 0\n",
    "        for batch in dataloader:\n",
    "            batch = (batch.view(batch.size(0), -1).float()/255).to(device)\n",
    "            # print(f\"min batch: {batch.min()}, max batch: {batch.max()}\")\n",
    "            optimizer.zero_grad()\n",
    "            recon_batch, mu, logvar = model(batch)\n",
    "            loss, bce, kld = compute_loss(recon_batch, batch, mu, logvar, beta)\n",
    "            loss.backward()\n",
    "            train_loss += loss.item()\n",
    "            bce_loss += bce.item()\n",
    "            kld_loss += kld.item()\n",
    "            optimizer.step()\n",
    "        if epoch % 1 == 0:\n",
    "            print(f\"Epoch {epoch + 1}, Loss: {train_loss / len(dataloader.dataset)}, \\\n",
    "                  BCE: {bce_loss / len(dataloader.dataset)}, KLD: {kld_loss / len(dataloader.dataset)}\")\n",
    "        # print(f\"Epoch {epoch + 1}, Loss: {train_loss / len(dataloader.dataset)}\")"
   ]
  },
  {
   "cell_type": "code",
   "execution_count": 7,
   "id": "65248ddc",
   "metadata": {},
   "outputs": [],
   "source": [
    "input_dim = 100\n",
    "time_dim = 100\n",
    "embed_dim = 128\n",
    "latent_dim = 64\n",
    "hidden_dim = 256\n",
    "conductor_dim = 256\n",
    "num_conductors = 10\n",
    "# model = MusicVAE(input_dim, time_dim, embed_dim,\n",
    "#                  latent_dim, hidden_dim, conductor_dim,\n",
    "#                  num_conductors, verbose=False)\n",
    "\n",
    "model = MusicVAEkimi(input_dim, hidden_dim, latent_dim, conductor_dim)\n",
    "model = model.to(device)\n",
    "optimizer = torch.optim.Adam(model.parameters(), lr=1e-3)"
   ]
  },
  {
   "cell_type": "code",
   "execution_count": 42,
   "id": "8d3c7df6",
   "metadata": {},
   "outputs": [
    {
     "name": "stderr",
     "output_type": "stream",
     "text": [
      "../aten/src/ATen/native/cuda/Loss.cu:94: operator(): block: [116,0,0], thread: [0,0,0] Assertion `input_val >= zero && input_val <= one` failed.\n",
      "../aten/src/ATen/native/cuda/Loss.cu:94: operator(): block: [116,0,0], thread: [2,0,0] Assertion `input_val >= zero && input_val <= one` failed.\n",
      "../aten/src/ATen/native/cuda/Loss.cu:94: operator(): block: [116,0,0], thread: [3,0,0] Assertion `input_val >= zero && input_val <= one` failed.\n",
      "../aten/src/ATen/native/cuda/Loss.cu:94: operator(): block: [116,0,0], thread: [4,0,0] Assertion `input_val >= zero && input_val <= one` failed.\n",
      "../aten/src/ATen/native/cuda/Loss.cu:94: operator(): block: [116,0,0], thread: [6,0,0] Assertion `input_val >= zero && input_val <= one` failed.\n",
      "../aten/src/ATen/native/cuda/Loss.cu:94: operator(): block: [116,0,0], thread: [8,0,0] Assertion `input_val >= zero && input_val <= one` failed.\n",
      "../aten/src/ATen/native/cuda/Loss.cu:94: operator(): block: [116,0,0], thread: [9,0,0] Assertion `input_val >= zero && input_val <= one` failed.\n",
      "../aten/src/ATen/native/cuda/Loss.cu:94: operator(): block: [116,0,0], thread: [10,0,0] Assertion `input_val >= zero && input_val <= one` failed.\n",
      "../aten/src/ATen/native/cuda/Loss.cu:94: operator(): block: [116,0,0], thread: [12,0,0] Assertion `input_val >= zero && input_val <= one` failed.\n",
      "../aten/src/ATen/native/cuda/Loss.cu:94: operator(): block: [116,0,0], thread: [13,0,0] Assertion `input_val >= zero && input_val <= one` failed.\n",
      "../aten/src/ATen/native/cuda/Loss.cu:94: operator(): block: [116,0,0], thread: [14,0,0] Assertion `input_val >= zero && input_val <= one` failed.\n",
      "../aten/src/ATen/native/cuda/Loss.cu:94: operator(): block: [116,0,0], thread: [15,0,0] Assertion `input_val >= zero && input_val <= one` failed.\n",
      "../aten/src/ATen/native/cuda/Loss.cu:94: operator(): block: [116,0,0], thread: [16,0,0] Assertion `input_val >= zero && input_val <= one` failed.\n",
      "../aten/src/ATen/native/cuda/Loss.cu:94: operator(): block: [116,0,0], thread: [19,0,0] Assertion `input_val >= zero && input_val <= one` failed.\n",
      "../aten/src/ATen/native/cuda/Loss.cu:94: operator(): block: [116,0,0], thread: [20,0,0] Assertion `input_val >= zero && input_val <= one` failed.\n",
      "../aten/src/ATen/native/cuda/Loss.cu:94: operator(): block: [116,0,0], thread: [21,0,0] Assertion `input_val >= zero && input_val <= one` failed.\n",
      "../aten/src/ATen/native/cuda/Loss.cu:94: operator(): block: [116,0,0], thread: [22,0,0] Assertion `input_val >= zero && input_val <= one` failed.\n",
      "../aten/src/ATen/native/cuda/Loss.cu:94: operator(): block: [116,0,0], thread: [24,0,0] Assertion `input_val >= zero && input_val <= one` failed.\n",
      "../aten/src/ATen/native/cuda/Loss.cu:94: operator(): block: [116,0,0], thread: [30,0,0] Assertion `input_val >= zero && input_val <= one` failed.\n",
      "../aten/src/ATen/native/cuda/Loss.cu:94: operator(): block: [116,0,0], thread: [31,0,0] Assertion `input_val >= zero && input_val <= one` failed.\n",
      "../aten/src/ATen/native/cuda/Loss.cu:94: operator(): block: [138,0,0], thread: [34,0,0] Assertion `input_val >= zero && input_val <= one` failed.\n",
      "../aten/src/ATen/native/cuda/Loss.cu:94: operator(): block: [138,0,0], thread: [35,0,0] Assertion `input_val >= zero && input_val <= one` failed.\n",
      "../aten/src/ATen/native/cuda/Loss.cu:94: operator(): block: [138,0,0], thread: [36,0,0] Assertion `input_val >= zero && input_val <= one` failed.\n",
      "../aten/src/ATen/native/cuda/Loss.cu:94: operator(): block: [138,0,0], thread: [37,0,0] Assertion `input_val >= zero && input_val <= one` failed.\n",
      "../aten/src/ATen/native/cuda/Loss.cu:94: operator(): block: [138,0,0], thread: [38,0,0] Assertion `input_val >= zero && input_val <= one` failed.\n",
      "../aten/src/ATen/native/cuda/Loss.cu:94: operator(): block: [138,0,0], thread: [40,0,0] Assertion `input_val >= zero && input_val <= one` failed.\n",
      "../aten/src/ATen/native/cuda/Loss.cu:94: operator(): block: [138,0,0], thread: [41,0,0] Assertion `input_val >= zero && input_val <= one` failed.\n",
      "../aten/src/ATen/native/cuda/Loss.cu:94: operator(): block: [138,0,0], thread: [42,0,0] Assertion `input_val >= zero && input_val <= one` failed.\n",
      "../aten/src/ATen/native/cuda/Loss.cu:94: operator(): block: [138,0,0], thread: [44,0,0] Assertion `input_val >= zero && input_val <= one` failed.\n",
      "../aten/src/ATen/native/cuda/Loss.cu:94: operator(): block: [138,0,0], thread: [45,0,0] Assertion `input_val >= zero && input_val <= one` failed.\n",
      "../aten/src/ATen/native/cuda/Loss.cu:94: operator(): block: [138,0,0], thread: [46,0,0] Assertion `input_val >= zero && input_val <= one` failed.\n",
      "../aten/src/ATen/native/cuda/Loss.cu:94: operator(): block: [138,0,0], thread: [48,0,0] Assertion `input_val >= zero && input_val <= one` failed.\n",
      "../aten/src/ATen/native/cuda/Loss.cu:94: operator(): block: [138,0,0], thread: [49,0,0] Assertion `input_val >= zero && input_val <= one` failed.\n",
      "../aten/src/ATen/native/cuda/Loss.cu:94: operator(): block: [138,0,0], thread: [51,0,0] Assertion `input_val >= zero && input_val <= one` failed.\n",
      "../aten/src/ATen/native/cuda/Loss.cu:94: operator(): block: [138,0,0], thread: [54,0,0] Assertion `input_val >= zero && input_val <= one` failed.\n",
      "../aten/src/ATen/native/cuda/Loss.cu:94: operator(): block: [138,0,0], thread: [56,0,0] Assertion `input_val >= zero && input_val <= one` failed.\n",
      "../aten/src/ATen/native/cuda/Loss.cu:94: operator(): block: [138,0,0], thread: [57,0,0] Assertion `input_val >= zero && input_val <= one` failed.\n",
      "../aten/src/ATen/native/cuda/Loss.cu:94: operator(): block: [138,0,0], thread: [60,0,0] Assertion `input_val >= zero && input_val <= one` failed.\n",
      "../aten/src/ATen/native/cuda/Loss.cu:94: operator(): block: [138,0,0], thread: [62,0,0] Assertion `input_val >= zero && input_val <= one` failed.\n",
      "../aten/src/ATen/native/cuda/Loss.cu:94: operator(): block: [138,0,0], thread: [63,0,0] Assertion `input_val >= zero && input_val <= one` failed.\n"
     ]
    },
    {
     "ename": "RuntimeError",
     "evalue": "cuDNN error: CUDNN_STATUS_EXECUTION_FAILED",
     "output_type": "error",
     "traceback": [
      "\u001b[0;31m---------------------------------------------------------------------------\u001b[0m",
      "\u001b[0;31mRuntimeError\u001b[0m                              Traceback (most recent call last)",
      "Cell \u001b[0;32mIn[42], line 1\u001b[0m\n\u001b[0;32m----> 1\u001b[0m \u001b[43mtrain\u001b[49m\u001b[43m(\u001b[49m\u001b[43mmodel\u001b[49m\u001b[43m,\u001b[49m\u001b[43m \u001b[49m\u001b[43mmidi_dataloader\u001b[49m\u001b[43m,\u001b[49m\u001b[43m \u001b[49m\u001b[43moptimizer\u001b[49m\u001b[43m,\u001b[49m\u001b[43m \u001b[49m\u001b[43mepochs\u001b[49m\u001b[38;5;241;43m=\u001b[39;49m\u001b[38;5;241;43m500\u001b[39;49m\u001b[43m,\u001b[49m\u001b[43m \u001b[49m\u001b[43mbeta\u001b[49m\u001b[43m \u001b[49m\u001b[38;5;241;43m=\u001b[39;49m\u001b[43m \u001b[49m\u001b[38;5;241;43m1\u001b[39;49m\u001b[43m)\u001b[49m\n\u001b[1;32m      2\u001b[0m \u001b[38;5;66;03m# save the model\u001b[39;00m\n\u001b[1;32m      4\u001b[0m model_path \u001b[38;5;241m=\u001b[39m \u001b[38;5;124m\"\u001b[39m\u001b[38;5;124mlstm_vae_model_midi.pth\u001b[39m\u001b[38;5;124m\"\u001b[39m\n",
      "Cell \u001b[0;32mIn[26], line 13\u001b[0m, in \u001b[0;36mtrain\u001b[0;34m(model, dataloader, optimizer, epochs, beta)\u001b[0m\n\u001b[1;32m     11\u001b[0m recon_batch, mu, logvar \u001b[38;5;241m=\u001b[39m model(batch)\n\u001b[1;32m     12\u001b[0m loss, bce, kld \u001b[38;5;241m=\u001b[39m compute_loss(recon_batch, batch, mu, logvar, beta)\n\u001b[0;32m---> 13\u001b[0m \u001b[43mloss\u001b[49m\u001b[38;5;241;43m.\u001b[39;49m\u001b[43mbackward\u001b[49m\u001b[43m(\u001b[49m\u001b[43m)\u001b[49m\n\u001b[1;32m     14\u001b[0m train_loss \u001b[38;5;241m+\u001b[39m\u001b[38;5;241m=\u001b[39m loss\u001b[38;5;241m.\u001b[39mitem()\n\u001b[1;32m     15\u001b[0m bce_loss \u001b[38;5;241m+\u001b[39m\u001b[38;5;241m=\u001b[39m bce\u001b[38;5;241m.\u001b[39mitem()\n",
      "File \u001b[0;32m~/miniconda3/envs/midiDraw/lib/python3.8/site-packages/torch/_tensor.py:521\u001b[0m, in \u001b[0;36mTensor.backward\u001b[0;34m(self, gradient, retain_graph, create_graph, inputs)\u001b[0m\n\u001b[1;32m    511\u001b[0m \u001b[38;5;28;01mif\u001b[39;00m has_torch_function_unary(\u001b[38;5;28mself\u001b[39m):\n\u001b[1;32m    512\u001b[0m     \u001b[38;5;28;01mreturn\u001b[39;00m handle_torch_function(\n\u001b[1;32m    513\u001b[0m         Tensor\u001b[38;5;241m.\u001b[39mbackward,\n\u001b[1;32m    514\u001b[0m         (\u001b[38;5;28mself\u001b[39m,),\n\u001b[0;32m   (...)\u001b[0m\n\u001b[1;32m    519\u001b[0m         inputs\u001b[38;5;241m=\u001b[39minputs,\n\u001b[1;32m    520\u001b[0m     )\n\u001b[0;32m--> 521\u001b[0m \u001b[43mtorch\u001b[49m\u001b[38;5;241;43m.\u001b[39;49m\u001b[43mautograd\u001b[49m\u001b[38;5;241;43m.\u001b[39;49m\u001b[43mbackward\u001b[49m\u001b[43m(\u001b[49m\n\u001b[1;32m    522\u001b[0m \u001b[43m    \u001b[49m\u001b[38;5;28;43mself\u001b[39;49m\u001b[43m,\u001b[49m\u001b[43m \u001b[49m\u001b[43mgradient\u001b[49m\u001b[43m,\u001b[49m\u001b[43m \u001b[49m\u001b[43mretain_graph\u001b[49m\u001b[43m,\u001b[49m\u001b[43m \u001b[49m\u001b[43mcreate_graph\u001b[49m\u001b[43m,\u001b[49m\u001b[43m \u001b[49m\u001b[43minputs\u001b[49m\u001b[38;5;241;43m=\u001b[39;49m\u001b[43minputs\u001b[49m\n\u001b[1;32m    523\u001b[0m \u001b[43m\u001b[49m\u001b[43m)\u001b[49m\n",
      "File \u001b[0;32m~/miniconda3/envs/midiDraw/lib/python3.8/site-packages/torch/autograd/__init__.py:289\u001b[0m, in \u001b[0;36mbackward\u001b[0;34m(tensors, grad_tensors, retain_graph, create_graph, grad_variables, inputs)\u001b[0m\n\u001b[1;32m    284\u001b[0m     retain_graph \u001b[38;5;241m=\u001b[39m create_graph\n\u001b[1;32m    286\u001b[0m \u001b[38;5;66;03m# The reason we repeat the same comment below is that\u001b[39;00m\n\u001b[1;32m    287\u001b[0m \u001b[38;5;66;03m# some Python versions print out the first line of a multi-line function\u001b[39;00m\n\u001b[1;32m    288\u001b[0m \u001b[38;5;66;03m# calls in the traceback and some print out the last line\u001b[39;00m\n\u001b[0;32m--> 289\u001b[0m \u001b[43m_engine_run_backward\u001b[49m\u001b[43m(\u001b[49m\n\u001b[1;32m    290\u001b[0m \u001b[43m    \u001b[49m\u001b[43mtensors\u001b[49m\u001b[43m,\u001b[49m\n\u001b[1;32m    291\u001b[0m \u001b[43m    \u001b[49m\u001b[43mgrad_tensors_\u001b[49m\u001b[43m,\u001b[49m\n\u001b[1;32m    292\u001b[0m \u001b[43m    \u001b[49m\u001b[43mretain_graph\u001b[49m\u001b[43m,\u001b[49m\n\u001b[1;32m    293\u001b[0m \u001b[43m    \u001b[49m\u001b[43mcreate_graph\u001b[49m\u001b[43m,\u001b[49m\n\u001b[1;32m    294\u001b[0m \u001b[43m    \u001b[49m\u001b[43minputs\u001b[49m\u001b[43m,\u001b[49m\n\u001b[1;32m    295\u001b[0m \u001b[43m    \u001b[49m\u001b[43mallow_unreachable\u001b[49m\u001b[38;5;241;43m=\u001b[39;49m\u001b[38;5;28;43;01mTrue\u001b[39;49;00m\u001b[43m,\u001b[49m\n\u001b[1;32m    296\u001b[0m \u001b[43m    \u001b[49m\u001b[43maccumulate_grad\u001b[49m\u001b[38;5;241;43m=\u001b[39;49m\u001b[38;5;28;43;01mTrue\u001b[39;49;00m\u001b[43m,\u001b[49m\n\u001b[1;32m    297\u001b[0m \u001b[43m\u001b[49m\u001b[43m)\u001b[49m\n",
      "File \u001b[0;32m~/miniconda3/envs/midiDraw/lib/python3.8/site-packages/torch/autograd/graph.py:769\u001b[0m, in \u001b[0;36m_engine_run_backward\u001b[0;34m(t_outputs, *args, **kwargs)\u001b[0m\n\u001b[1;32m    767\u001b[0m     unregister_hooks \u001b[38;5;241m=\u001b[39m _register_logging_hooks_on_whole_graph(t_outputs)\n\u001b[1;32m    768\u001b[0m \u001b[38;5;28;01mtry\u001b[39;00m:\n\u001b[0;32m--> 769\u001b[0m     \u001b[38;5;28;01mreturn\u001b[39;00m \u001b[43mVariable\u001b[49m\u001b[38;5;241;43m.\u001b[39;49m\u001b[43m_execution_engine\u001b[49m\u001b[38;5;241;43m.\u001b[39;49m\u001b[43mrun_backward\u001b[49m\u001b[43m(\u001b[49m\u001b[43m  \u001b[49m\u001b[38;5;66;43;03m# Calls into the C++ engine to run the backward pass\u001b[39;49;00m\n\u001b[1;32m    770\u001b[0m \u001b[43m        \u001b[49m\u001b[43mt_outputs\u001b[49m\u001b[43m,\u001b[49m\u001b[43m \u001b[49m\u001b[38;5;241;43m*\u001b[39;49m\u001b[43margs\u001b[49m\u001b[43m,\u001b[49m\u001b[43m \u001b[49m\u001b[38;5;241;43m*\u001b[39;49m\u001b[38;5;241;43m*\u001b[39;49m\u001b[43mkwargs\u001b[49m\n\u001b[1;32m    771\u001b[0m \u001b[43m    \u001b[49m\u001b[43m)\u001b[49m  \u001b[38;5;66;03m# Calls into the C++ engine to run the backward pass\u001b[39;00m\n\u001b[1;32m    772\u001b[0m \u001b[38;5;28;01mfinally\u001b[39;00m:\n\u001b[1;32m    773\u001b[0m     \u001b[38;5;28;01mif\u001b[39;00m attach_logging_hooks:\n",
      "\u001b[0;31mRuntimeError\u001b[0m: cuDNN error: CUDNN_STATUS_EXECUTION_FAILED"
     ]
    }
   ],
   "source": [
    "train(model, midi_dataloader, optimizer, epochs=500, beta = 1)\n",
    "# save the model\n",
    "\n",
    "model_path = \"lstm_vae_model_midi.pth\"\n",
    "torch.save(model.state_dict(), model_path)"
   ]
  },
  {
   "cell_type": "code",
   "execution_count": 29,
   "id": "ae214f1b",
   "metadata": {},
   "outputs": [
    {
     "data": {
      "image/png": "[encoded data removed]",
      "text/plain": [
       "<Figure size 1500x500 with 10 Axes>"
      ]
     },
     "metadata": {},
     "output_type": "display_data"
    },
    {
     "data": {
      "image/png": "[encoded data removed]",
      "text/plain": [
       "<Figure size 1500x500 with 10 Axes>"
      ]
     },
     "metadata": {},
     "output_type": "display_data"
    }
   ],
   "source": [
    "# reconstruct some images\n",
    "def reconstruct_images(model, dataloader, num_images=10):\n",
    "    model.eval()\n",
    "    with torch.no_grad():\n",
    "        for batch in dataloader:\n",
    "            batch = (batch.view(batch.size(0), -1).float()/255).to(device)\n",
    "            recon_batch, mu, logvar = model(batch)\n",
    "            recon_batch = recon_batch.view(-1, 1, 100, 100).cpu().numpy()\n",
    "            break\n",
    "    return recon_batch[:num_images], batch[:num_images].view(-1, 1, 100, 100).cpu().numpy()\n",
    "# Visualize the reconstructed images\n",
    "def visualize_reconstructed_images(recon_images):\n",
    "    fig, axes = plt.subplots(1, len(recon_images), figsize=(15, 5))\n",
    "    for i, img in enumerate(recon_images):\n",
    "        axes[i].imshow(img[0], cmap='gray')\n",
    "        axes[i].axis('off')\n",
    "    plt.show()\n",
    "recon_images, ori_images = reconstruct_images(model, midi_dataloader, num_images=10)\n",
    "visualize_reconstructed_images(ori_images)\n",
    "visualize_reconstructed_images(recon_images)\n"
   ]
  }
 ],
 "metadata": {
  "kernelspec": {
   "display_name": "midiDraw",
   "language": "python",
   "name": "python3"
  },
  "language_info": {
   "codemirror_mode": {
    "name": "ipython",
    "version": 3
   },
   "file_extension": ".py",
   "mimetype": "text/x-python",
   "name": "python",
   "nbconvert_exporter": "python",
   "pygments_lexer": "ipython3",
   "version": "3.8.0"
  }
 },
 "nbformat": 4,
 "nbformat_minor": 5
}
